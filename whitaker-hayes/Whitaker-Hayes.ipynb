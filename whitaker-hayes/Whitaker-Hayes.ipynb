{
 "cells": [
  {
   "cell_type": "markdown",
   "metadata": {},
   "source": [
    "# Implementación de algoritmo de detección de Whitaker y Hayes\n",
    "\n",
    "Basado en el trabajo https://doi.org/10.1016/j.chemolab.2018.06.009."
   ]
  },
  {
   "cell_type": "markdown",
   "metadata": {},
   "source": [
    "Carga de librerías externas, configuración de los parámetros a ser explorados durante la medición y nombre del archivo de donde se cargarán los datos espectrales."
   ]
  },
  {
   "cell_type": "code",
   "execution_count": null,
   "metadata": {},
   "outputs": [],
   "source": [
    "import json\n",
    "import pickle\n",
    "import numpy as np\n",
    "from random import sample\n",
    "import matplotlib.pyplot as plt\n",
    "from sklearn.metrics import precision_recall_fscore_support, confusion_matrix\n",
    "\n",
    "archivo_carga_espectros = '../resultados.ndjson'\n",
    "params = [\n",
    "    { 'umbral': 4 },\n",
    "    { 'umbral': 5 },\n",
    "    { 'umbral': 6 },\n",
    "    { 'umbral': 7 },\n",
    "    { 'umbral': 8 },\n",
    "    { 'umbral': 9 },\n",
    "    { 'umbral': 10 },\n",
    "    { 'umbral': 11 },\n",
    "    { 'umbral': 12 },\n",
    "    { 'umbral': 13 },\n",
    "    { 'umbral': 14 },\n",
    "    { 'umbral': 15 },\n",
    "    { 'umbral': 16 },\n",
    "]"
   ]
  },
  {
   "cell_type": "markdown",
   "metadata": {},
   "source": [
    "Funciones de carga de espectros"
   ]
  },
  {
   "cell_type": "code",
   "execution_count": null,
   "metadata": {},
   "outputs": [],
   "source": [
    "def deserializar_espectro(espectro):\n",
    "    espectro['vector_base'] = np.array(espectro['vector_base'])\n",
    "    espectro['espectro_base_muestra'] = np.array(espectro['espectro_base_muestra'])\n",
    "    espectro['espectro_base_background'] = np.array(espectro['espectro_base_background'])\n",
    "    espectro['baseline_muestra'] = np.array(espectro['baseline_muestra'])\n",
    "    espectro['baseline_background'] = np.array(espectro['baseline_background'])\n",
    "    espectro['muestra_con_baseline'] = np.array(espectro['muestra_con_baseline'])\n",
    "    espectro['background_con_baseline'] = np.array(espectro['background_con_baseline'])\n",
    "    espectro['muestra_combinado_base'] = np.array(espectro['muestra_combinado_base'])\n",
    "    espectro['espectro_ruido_combinado'] = np.array(espectro['espectro_ruido_combinado'])\n",
    "    espectro['espectro_ruido_background'] = np.array(espectro['espectro_ruido_background'])\n",
    "    espectro['spikes_muestra'] = np.array(espectro['spikes_muestra'])\n",
    "    espectro['spikes_background'] = np.array(espectro['spikes_background'])\n",
    "    espectro['flag_spikes_muestra'] = np.array(espectro['flag_spikes_muestra'])\n",
    "    espectro['flag_spikes_background'] = np.array(espectro['flag_spikes_background'])\n",
    "    espectro['muestra_base_con_spikes'] = np.array(espectro['muestra_base_con_spikes'])\n",
    "    espectro['y_muestra'] = np.array(espectro['y_muestra'])\n",
    "    espectro['y_background'] = np.array(espectro['y_background'])\n",
    "\n",
    "    return espectro\n",
    "\n",
    "def cargar_espectros():\n",
    "    with open(archivo_carga_espectros, 'r') as fp:\n",
    "        data = []\n",
    "        for line in fp:\n",
    "            data.append(deserializar_espectro(json.loads(line)))\n",
    "        fp.close()\n",
    "        return data\n",
    "\n",
    "espectros = cargar_espectros()"
   ]
  },
  {
   "cell_type": "markdown",
   "metadata": {},
   "source": [
    "Función para calcular métricas clasificación de spikes."
   ]
  },
  {
   "cell_type": "code",
   "execution_count": null,
   "metadata": {},
   "outputs": [],
   "source": [
    "def calcular_metricas_clasificacion(valores_reales, predicciones):\n",
    "    _predicciones = np.array(predicciones).flatten()\n",
    "    _valores_reales = np.array(valores_reales).flatten()\n",
    "\n",
    "    return precision_recall_fscore_support(_valores_reales, _predicciones), confusion_matrix(_valores_reales, _predicciones)"
   ]
  },
  {
   "cell_type": "markdown",
   "metadata": {},
   "source": [
    "Implementación del algoritmo Whitaker-Hayes para detección de spikes, así como funciones auxiliares para recogida de datos y visualización de resultados."
   ]
  },
  {
   "cell_type": "code",
   "execution_count": null,
   "metadata": {},
   "outputs": [],
   "source": [
    "def algoritmo_whitaker_hayes(input, umbral = 6):\n",
    "    # Primero calculamos la serie diferenciada\n",
    "    input = input\n",
    "    serie_diferenciada = np.diff(input)\n",
    "\n",
    "    # Luego calculamos la mediana y el MAD de la serie diferenciada\n",
    "    mediana_diferenciada = np.median(serie_diferenciada)\n",
    "    mad_diferenciada = np.median(np.array(list(map(lambda x: abs(x - mediana_diferenciada), serie_diferenciada))))\n",
    "\n",
    "    # En este caso el input es un vector nulo y se previene una división por cero\n",
    "    if mad_diferenciada == 0:\n",
    "        return np.full(len(input), False), np.zeros(len(input) - 1), np.zeros(len(input) - 1)\n",
    "\n",
    "    # Calculamos el valor zeta modificado\n",
    "    zeta_modificado = np.array(list(map(lambda x: 0.6745 * (x - mediana_diferenciada) / mad_diferenciada, serie_diferenciada)))\n",
    "\n",
    "    # Son marcados como spikes los valores cuyo puntaje z modificado asociado cae por encima o por debajo del umbral\n",
    "    resultado = np.abs(zeta_modificado) > umbral\n",
    "\n",
    "    # Este algoritmo no puede detectar spikes en el primer valor de la serie,\n",
    "    # los autores indican que, puesto que los spikes son sustituidos con promedios móviles\n",
    "    # lo más seguro es marcar como spikes el primer y último elemento de la serie\n",
    "    # Sin embargo, nuestro interés es sólo la detección, por lo que más bien nos interesa\n",
    "    # preservar la precisión del algoritmo marcando como False el primer elemento, puesto\n",
    "    # que esta es la elección más probable\n",
    "    resultado = np.insert(resultado, 0, False)\n",
    "\n",
    "    return resultado, serie_diferenciada, zeta_modificado\n",
    "\n",
    "def obtener_resultado_parametro_whitaker_hayes(espectros, etiquetas, umbral = 6):\n",
    "    predicciones_whitaker_hayes = [algoritmo_whitaker_hayes(espectro, umbral)[0] for espectro in espectros]\n",
    "\n",
    "    return predicciones_whitaker_hayes, calcular_metricas_clasificacion(etiquetas, predicciones_whitaker_hayes)\n",
    "\n",
    "def visualizar_resultado_whitaker_hayes(vector_base, input, etiquetas, umbral = 6):\n",
    "    resultados, serie_diferenciada, zeta_modificado = algoritmo_whitaker_hayes(input, umbral)\n",
    "\n",
    "    fig = plt.figure(figsize=[45, 45], constrained_layout=True)\n",
    "\n",
    "    fig.suptitle(\"Muestra de resultados al aplicar el algoritmo Whitaker-Hayes\", fontsize=24, fontweight='bold')\n",
    "\n",
    "    subfigs = fig.subfigures(nrows=4, ncols=1)\n",
    "\n",
    "    for row, subfig in enumerate(subfigs):\n",
    "        (ax) = subfig.subplots(nrows=1, ncols=1)\n",
    "\n",
    "        if row == 0:\n",
    "            ax.set_title(\"Serie original\", fontsize=18)\n",
    "            ax.plot(vector_base, input)\n",
    "        elif row == 1:\n",
    "            ax.set_title(\"Serie diferenciada\", fontsize=18)\n",
    "            serie_diferenciada = np.insert(serie_diferenciada, 0, 0)\n",
    "            ax.plot(vector_base, serie_diferenciada)\n",
    "        elif row == 2:\n",
    "            ax.set_title(\"Zeta modificado y umbral\", fontsize=18)\n",
    "            zeta_modificado = np.insert(zeta_modificado, 0, 0)\n",
    "            ax.plot(vector_base, zeta_modificado)\n",
    "            plt.axhline(y = umbral, color = 'r', linestyle = '-')\n",
    "            plt.axhline(y = -umbral, color = 'r', linestyle = '-')\n",
    "        elif row == 3:\n",
    "            colores = ['blue' if resultado and etiquetas[i] else 'red' if resultado else 'white' for i, resultado in enumerate(resultados)]\n",
    "            ax.set_title(\"Serie con spikes detectados como puntos rojos\", fontsize=18)\n",
    "            ax.plot(vector_base, input)\n",
    "            ax.scatter(vector_base, input, c=colores)"
   ]
  },
  {
   "cell_type": "markdown",
   "metadata": {},
   "source": [
    "Separación de las curvas a emplear en la recogida de datos, así como sus respectivas etiquetas que marcan la posición real de los spikes añadidos, del conjunto de datos espectrales cargado."
   ]
  },
  {
   "cell_type": "code",
   "execution_count": null,
   "metadata": {},
   "outputs": [],
   "source": [
    "espectros_base_con_spikes_con_ruido = [espectro['muestra_base_con_spikes'] for espectro in espectros]\n",
    "espectros_base_con_spikes_sin_ruido = [espectro['espectro_base_muestra'] + espectro['spikes_muestra'] for espectro in espectros]\n",
    "etiquetas = [espectro['flag_spikes_muestra'] for espectro in espectros]"
   ]
  },
  {
   "cell_type": "markdown",
   "metadata": {},
   "source": [
    "Recogida de datos y guardado de los resultados en un archivo."
   ]
  },
  {
   "cell_type": "code",
   "execution_count": null,
   "metadata": {},
   "outputs": [],
   "source": [
    "resultados_whitaker_hayes = []\n",
    "\n",
    "for param in params:\n",
    "    predicciones_whitaker_hayes_ruido, metricas_whitaker_hayes_ruido = obtener_resultado_parametro_whitaker_hayes(espectros_base_con_spikes_con_ruido, etiquetas, param['umbral'])\n",
    "    predicciones_whitaker_hayes_sin_ruido, metricas_whitaker_hayes_sin_ruido = obtener_resultado_parametro_whitaker_hayes(espectros_base_con_spikes_sin_ruido, etiquetas, param['umbral'])\n",
    "\n",
    "    for i in range(len(predicciones_whitaker_hayes_ruido)):\n",
    "        resultados_whitaker_hayes.append({\n",
    "            'etiquetas': etiquetas[i],\n",
    "            'umbral': param['umbral'],\n",
    "            'predicciones_ruido': predicciones_whitaker_hayes_ruido[i],\n",
    "            'predicciones_sin_ruido': predicciones_whitaker_hayes_sin_ruido[i],\n",
    "            'espectro_ruido': espectros_base_con_spikes_con_ruido[i],\n",
    "            'espectro_sin_ruido': espectros_base_con_spikes_sin_ruido[i]\n",
    "        })\n",
    "\n",
    "with open('resultados_whitaker_hayes', 'wb') as fp:\n",
    "    pickle.dump(resultados_whitaker_hayes, fp)"
   ]
  },
  {
   "cell_type": "markdown",
   "metadata": {},
   "source": [
    "Toma de una muestra aleatoria para control de calidad"
   ]
  },
  {
   "cell_type": "code",
   "execution_count": null,
   "metadata": {},
   "outputs": [],
   "source": [
    "indice_muestra = sample(list(range(len(espectros))), 1)[0]"
   ]
  },
  {
   "cell_type": "markdown",
   "metadata": {},
   "source": [
    "Visualización del resultado de la aplicación del algoritmo Whitaker-Hayes a un espectro aleatorio al que no le fue añadido ruido aleatorio"
   ]
  },
  {
   "cell_type": "code",
   "execution_count": null,
   "metadata": {},
   "outputs": [],
   "source": [
    "visualizar_resultado_whitaker_hayes(espectros[indice_muestra]['vector_base'], espectros_base_con_spikes_sin_ruido[indice_muestra], etiquetas[indice_muestra])"
   ]
  },
  {
   "cell_type": "markdown",
   "metadata": {},
   "source": [
    "Visualización del resultado de la aplicación del algoritmo Whitaker-Hayes a un espectro aleatorio al que le fue añadido ruido aleatorio"
   ]
  },
  {
   "cell_type": "code",
   "execution_count": null,
   "metadata": {},
   "outputs": [],
   "source": [
    "visualizar_resultado_whitaker_hayes(espectros[indice_muestra]['vector_base'], espectros_base_con_spikes_con_ruido[indice_muestra], etiquetas[indice_muestra])"
   ]
  }
 ],
 "metadata": {
  "kernelspec": {
   "display_name": "Python 3.10.4 64-bit",
   "language": "python",
   "name": "python3"
  },
  "language_info": {
   "codemirror_mode": {
    "name": "ipython",
    "version": 3
   },
   "file_extension": ".py",
   "mimetype": "text/x-python",
   "name": "python",
   "nbconvert_exporter": "python",
   "pygments_lexer": "ipython3",
   "version": "3.10.4"
  },
  "orig_nbformat": 4,
  "vscode": {
   "interpreter": {
    "hash": "916dbcbb3f70747c44a77c7bcd40155683ae19c65e1c03b4aa3499c5328201f1"
   }
  }
 },
 "nbformat": 4,
 "nbformat_minor": 2
}
