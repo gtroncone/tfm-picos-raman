{
 "cells": [
  {
   "cell_type": "markdown",
   "metadata": {},
   "source": [
    "# Implementación de algoritmo de detección de Maury y Revilla\n",
    "\n",
    "Basado en el trabajo https://doi.org/10.1366/14-07834."
   ]
  },
  {
   "cell_type": "markdown",
   "metadata": {},
   "source": [
    "Carga de librerías externas, configuración de los parámetros a ser explorados durante la medición y nombre del archivo de donde se cargarán los datos espectrales."
   ]
  },
  {
   "cell_type": "code",
   "execution_count": null,
   "metadata": {},
   "outputs": [],
   "source": [
    "import math\n",
    "import pywt\n",
    "import json\n",
    "import pickle\n",
    "import numpy as np\n",
    "import matplotlib.pyplot as plt\n",
    "from random import sample\n",
    "from sklearn.metrics import precision_recall_fscore_support, confusion_matrix\n",
    "\n",
    "archivo_carga_espectros = '../resultados.ndjson'\n",
    "\n",
    "params = [\n",
    "    {\n",
    "        'coef_adev': 1,\n",
    "        'm': 1,\n",
    "    },\n",
    "    {\n",
    "        'coef_adev': 2,\n",
    "        'm': 1,\n",
    "    },\n",
    "    {\n",
    "        'coef_adev': 3,\n",
    "        'm': 1,\n",
    "    },\n",
    "    {\n",
    "        'coef_adev': 4,\n",
    "        'm': 1,\n",
    "    },\n",
    "    {\n",
    "        'coef_adev': 5,\n",
    "        'm': 1,\n",
    "    },\n",
    "    {\n",
    "        'coef_adev': 1,\n",
    "        'm': 2,\n",
    "    },\n",
    "    {\n",
    "        'coef_adev': 2,\n",
    "        'm': 2,\n",
    "    },\n",
    "    {\n",
    "        'coef_adev': 3,\n",
    "        'm': 2,\n",
    "    },\n",
    "    {\n",
    "        'coef_adev': 4,\n",
    "        'm': 2,\n",
    "    },\n",
    "    {\n",
    "        'coef_adev': 5,\n",
    "        'm': 2,\n",
    "    }\n",
    "]"
   ]
  },
  {
   "cell_type": "markdown",
   "metadata": {},
   "source": [
    "Funciones de carga de espectros"
   ]
  },
  {
   "cell_type": "code",
   "execution_count": null,
   "metadata": {},
   "outputs": [],
   "source": [
    "def deserializar_espectro(espectro):\n",
    "    espectro['vector_base'] = np.array(espectro['vector_base'])\n",
    "    espectro['espectro_base_muestra'] = np.array(espectro['espectro_base_muestra'])\n",
    "    espectro['espectro_base_background'] = np.array(espectro['espectro_base_background'])\n",
    "    espectro['baseline_muestra'] = np.array(espectro['baseline_muestra'])\n",
    "    espectro['baseline_background'] = np.array(espectro['baseline_background'])\n",
    "    espectro['muestra_con_baseline'] = np.array(espectro['muestra_con_baseline'])\n",
    "    espectro['background_con_baseline'] = np.array(espectro['background_con_baseline'])\n",
    "    espectro['muestra_combinado_base'] = np.array(espectro['muestra_combinado_base'])\n",
    "    espectro['espectro_ruido_combinado'] = np.array(espectro['espectro_ruido_combinado'])\n",
    "    espectro['espectro_ruido_background'] = np.array(espectro['espectro_ruido_background'])\n",
    "    espectro['spikes_muestra'] = np.array(espectro['spikes_muestra'])\n",
    "    espectro['spikes_background'] = np.array(espectro['spikes_background'])\n",
    "    espectro['flag_spikes_muestra'] = np.array(espectro['flag_spikes_muestra'])\n",
    "    espectro['flag_spikes_background'] = np.array(espectro['flag_spikes_background'])\n",
    "    espectro['muestra_base_con_spikes'] = np.array(espectro['muestra_base_con_spikes'])\n",
    "    espectro['y_muestra'] = np.array(espectro['y_muestra'])\n",
    "    espectro['y_background'] = np.array(espectro['y_background'])\n",
    "\n",
    "    return espectro\n",
    "\n",
    "def cargar_espectros():\n",
    "    with open(archivo_carga_espectros, 'r') as fp:\n",
    "        data = []\n",
    "        for line in fp:\n",
    "            data.append(deserializar_espectro(json.loads(line)))\n",
    "        fp.close()\n",
    "        return data\n",
    "\n",
    "espectros = cargar_espectros()"
   ]
  },
  {
   "cell_type": "markdown",
   "metadata": {},
   "source": [
    "Función para calcular métricas clasificación de spikes."
   ]
  },
  {
   "cell_type": "code",
   "execution_count": null,
   "metadata": {},
   "outputs": [],
   "source": [
    "def calcular_metricas_clasificacion(valores_reales, predicciones):\n",
    "    _predicciones = np.array(predicciones).flatten()\n",
    "    _valores_reales = np.array(valores_reales).flatten()\n",
    "\n",
    "    return precision_recall_fscore_support(_valores_reales, _predicciones), confusion_matrix(_valores_reales, _predicciones)"
   ]
  },
  {
   "cell_type": "markdown",
   "metadata": {},
   "source": [
    "Implementación del algoritmo Maury-Revilla para detección de spikes, así como funciones auxiliares para recogida de datos y visualización de resultados."
   ]
  },
  {
   "cell_type": "code",
   "execution_count": null,
   "metadata": {},
   "outputs": [],
   "source": [
    "def algoritmo_maury_revilla(input, coef_adev = 3, K = 4, M = 2):\n",
    "    # El primer paso es obtener la serie diferenciada\n",
    "    serie_diferenciada = np.diff(input)\n",
    "    ondicula = 'db' + str(K)\n",
    "\n",
    "    # El segundo paso es aplicar un filtro por transformación ondicular\n",
    "    # Como sugerido por los autores, el tamaño del filtro debe ser 2K=8, \n",
    "    # por lo que usamos la ondícula de Daubechies de orden 4 (2x4=8)\n",
    "    # Adicionalmente los autores sugieren que para la mayoría de los casos hay que aplicar la\n",
    "    # transformación a dos niveles (M=2)\n",
    "    transformada_ondicular = pywt.wavedec(serie_diferenciada, ondicula, mode='periodic', level=M)\n",
    "    \n",
    "    # Para realizar el proceso inverso y reconstruir la señal original, se deben eliminar los filtros\n",
    "    # de detalles, y dejar sólo los coeficientes de la \"ondícula madre\"\n",
    "    for i in range(M + 1):\n",
    "        if i > 0:\n",
    "            transformada_ondicular[i] = np.zeros_like(transformada_ondicular[i])\n",
    "\n",
    "    # Finalmente reconstruimos la serie, habiendo colocado en cero los coeficientes que no \n",
    "    # pertenecen a la \"ondícula madre\"\n",
    "    serie_reconstruida = pywt.waverec(transformada_ondicular, ondicula, mode='periodic')\n",
    "\n",
    "    # Calculamos la serie de valores residuales entre la serie diferenciada y la serie\n",
    "    # diferenciada reconstruida. Eliminando el primer valor para que tengan igual dimensión\n",
    "    residuales = np.subtract(serie_diferenciada, serie_reconstruida[1:])\n",
    "\n",
    "    # Se procede luego a calcular el ADEV, siguiendo la fórmula indicada por los autores\n",
    "    segunda_diferencia = np.diff(serie_diferenciada)\n",
    "    suma_segundas_diferencias_cuadrado = np.sum(segunda_diferencia ** 2)\n",
    "    adev = math.sqrt(suma_segundas_diferencias_cuadrado / (2 * (len(segunda_diferencia) - 2)))\n",
    "\n",
    "    # Para las detecciones iniciales se considera el umbral\n",
    "    detecciones = np.abs(residuales) > coef_adev * adev\n",
    "    hay_detecciones_adicionales = True\n",
    "\n",
    "    # Posteriormente deben realizarse las detecciones adicionales, que consideran\n",
    "    # criterios lógicos y de cercanía de un punto del spike con otros puntos pertenecientes\n",
    "    # a spikes. La idea es iterar hasta que ya no se detecten nuevos puntos de spikes, en\n",
    "    # cuyo caso el algoritmo se detiene\n",
    "    while hay_detecciones_adicionales:\n",
    "        hay_detecciones_adicionales = False\n",
    "        for i, deteccion in enumerate(detecciones):\n",
    "            ventana_inferior = list(detecciones[0:i][-2:])\n",
    "            ventana_superior = list(detecciones[i+1:][:2])\n",
    "\n",
    "            ventana = np.array(ventana_inferior + ventana_superior)\n",
    "\n",
    "            hay_detecciones = np.any(ventana)\n",
    "\n",
    "            # Primero se busca si en una ventana de dos puntos alrededor del punto\n",
    "            # que está siendo evaluado hay spikes, en cuyo caso el punto actual\n",
    "            # se considera spike si el punto asociado en la serie diferenciada supera el\n",
    "            # umbral\n",
    "            if hay_detecciones and not detecciones[i]:\n",
    "                nuevo_valor = abs(serie_diferenciada[i]) > coef_adev * adev\n",
    "                if nuevo_valor:\n",
    "                    detecciones[i] = nuevo_valor\n",
    "                    hay_detecciones_adicionales = True\n",
    "\n",
    "            ventana_inferior_reducida = list(detecciones[0:i][-1:])\n",
    "            ventana_superior_reducida = list(detecciones[i+1:][:1])\n",
    "            ventana_reducida = np.array(ventana_inferior_reducida + ventana_superior_reducida)\n",
    "\n",
    "            rodeado_por_spikes = np.all(ventana_reducida)\n",
    "\n",
    "            # Por otro lado, si hay un punto que está rodeado a ambos lados por puntos que son spikes\n",
    "            # se le considerará también como parte del spike\n",
    "            if rodeado_por_spikes and not detecciones[i]:\n",
    "                detecciones[i] = True\n",
    "                hay_detecciones_adicionales = True\n",
    "\n",
    "    # Este algoritmo no puede detectar spikes en el primer valor de la serie,\n",
    "    # nuestro interés es sólo la detección, por lo que nos interesa\n",
    "    # preservar la precisión del algoritmo marcando como False el primer elemento, puesto\n",
    "    # que esta es la elección más probable\n",
    "    detecciones = np.insert(detecciones, 0, False)\n",
    "\n",
    "    return detecciones, serie_diferenciada, serie_reconstruida, residuales, adev\n",
    "\n",
    "def obtener_resultado_parametro_maury_revilla(espectros, etiquetas, coef_adev = 3, K = 4, M = 2):\n",
    "    predicciones_maury_revilla = [algoritmo_maury_revilla(espectro, coef_adev, K, M)[0] for espectro in espectros]\n",
    "\n",
    "    return predicciones_maury_revilla, calcular_metricas_clasificacion(etiquetas, predicciones_maury_revilla)\n",
    "\n",
    "def visualizar_resultado_maury_revilla(vector_base, input, etiquetas, umbral_coef_adev = 3):\n",
    "    detecciones, serie_diferenciada, serie_reconstruida, residuales, adev = algoritmo_maury_revilla(input, umbral_coef_adev)\n",
    "\n",
    "    fig = plt.figure(figsize=[45, 45], constrained_layout=True)\n",
    "\n",
    "    fig.suptitle(\"Muestra de resultados al aplicar el algoritmo Maury-Revilla\", fontsize=24, fontweight='bold')\n",
    "\n",
    "    subfigs = fig.subfigures(nrows=5, ncols=1)\n",
    "\n",
    "    for row, subfig in enumerate(subfigs):\n",
    "        (ax) = subfig.subplots(nrows=1, ncols=1)\n",
    "\n",
    "        if row == 0:\n",
    "            ax.set_title(\"Serie original\", fontsize=18)\n",
    "            ax.plot(vector_base, input)\n",
    "        elif row == 1:\n",
    "            ax.set_title(\"Serie diferenciada\", fontsize=18)\n",
    "            serie_diferenciada = np.insert(serie_diferenciada, 0, 0)\n",
    "            ax.plot(vector_base, serie_diferenciada)\n",
    "        elif row == 2:\n",
    "            ax.set_title(\"Serie diferenciada reconstruida por transformación ondicular parcial\", fontsize=18)\n",
    "            ax.plot(vector_base, serie_reconstruida)\n",
    "        elif row == 3:\n",
    "            ax.set_title(\"Serie de valores residuales y umbral\", fontsize=18)\n",
    "            residuales = np.insert(residuales, 0, 0)\n",
    "            ax.plot(vector_base, residuales)\n",
    "            plt.axhline(y = umbral_coef_adev * adev, color = 'r', linestyle = '-')\n",
    "            plt.axhline(y = -umbral_coef_adev * adev, color = 'r', linestyle = '-')\n",
    "        elif row == 4:\n",
    "            categorias = {\n",
    "                'tp': {\n",
    "                    'color': 'blue',\n",
    "                    'label': 'Detecciones'\n",
    "                },\n",
    "                'fp': {\n",
    "                    'color': 'black',\n",
    "                    'label': 'Falsos positivos'\n",
    "                },\n",
    "                'fn': {\n",
    "                    'color': 'red',\n",
    "                    'label': 'Falsos negativos'\n",
    "                }\n",
    "            }\n",
    "\n",
    "            detecciones_agrupadas = []\n",
    "\n",
    "            for i, es_resultado in enumerate(detecciones):\n",
    "                label = ''\n",
    "                es_spike = etiquetas[i]\n",
    "\n",
    "                if es_spike:\n",
    "                    if es_resultado:\n",
    "                        label = 'tp'\n",
    "                    else:\n",
    "                        label = 'fn'\n",
    "                elif es_resultado:\n",
    "                    label = 'fp'\n",
    "                else:\n",
    "                    label = 'tn'\n",
    "                detecciones_agrupadas.append(label)\n",
    "\n",
    "            detecciones_agrupadas = np.array(detecciones_agrupadas)\n",
    "\n",
    "            ax.set_title(\"Serie con spikes detectados y tipos de detección\", fontsize=18)\n",
    "            ax.plot(vector_base, input)\n",
    "            ax.scatter(vector_base[detecciones_agrupadas == 'tp'], input[detecciones_agrupadas == 'tp'], c=categorias['tp']['color'], label=categorias['tp']['label'], s=100)\n",
    "            ax.scatter(vector_base[detecciones_agrupadas == 'fp'], input[detecciones_agrupadas == 'fp'], c=categorias['fp']['color'], label=categorias['fp']['label'], s=100)\n",
    "            ax.scatter(vector_base[detecciones_agrupadas == 'fn'], input[detecciones_agrupadas == 'fn'], c=categorias['fn']['color'], label=categorias['fn']['label'], s=100)\n",
    "\n",
    "            ax.legend(fontsize=28)"
   ]
  },
  {
   "cell_type": "markdown",
   "metadata": {},
   "source": [
    "Separación de las curvas a emplear en la recogida de datos, así como las respectivas etiquetas que marcan la posición real de los spikes añadidos, del conjunto de datos espectrales cargado"
   ]
  },
  {
   "cell_type": "code",
   "execution_count": null,
   "metadata": {},
   "outputs": [],
   "source": [
    "espectros_base_con_spikes_con_ruido = [espectro['muestra_base_con_spikes'] for espectro in espectros]\n",
    "espectros_base_con_spikes_sin_ruido = [espectro['espectro_base_muestra'] + espectro['spikes_muestra'] for espectro in espectros]\n",
    "etiquetas = [espectro['flag_spikes_muestra'] for espectro in espectros]"
   ]
  },
  {
   "cell_type": "markdown",
   "metadata": {},
   "source": [
    "Recogida de datos y guardado de los resultados en un archivo."
   ]
  },
  {
   "cell_type": "code",
   "execution_count": null,
   "metadata": {},
   "outputs": [],
   "source": [
    "resultados_maury_revilla = []\n",
    "\n",
    "for param in params:\n",
    "    predicciones_maury_revilla_ruido, metricas_maury_revilla_ruido = obtener_resultado_parametro_maury_revilla(espectros_base_con_spikes_con_ruido, etiquetas, param['coef_adev'], param['m'])\n",
    "    predicciones_maury_revilla_sin_ruido, metricas_maury_revilla_sin_ruido = obtener_resultado_parametro_maury_revilla(espectros_base_con_spikes_sin_ruido, etiquetas, param['coef_adev'], param['m'])\n",
    "\n",
    "    for i in range(len(predicciones_maury_revilla_ruido)):\n",
    "        resultados_maury_revilla.append({\n",
    "            'etiquetas': etiquetas[i],\n",
    "            'coef_adev': param['coef_adev'],\n",
    "            'm': param['m'],\n",
    "            'predicciones_ruido': predicciones_maury_revilla_ruido[i],\n",
    "            'predicciones_sin_ruido': predicciones_maury_revilla_sin_ruido[i],\n",
    "            'espectro_ruido': espectros_base_con_spikes_con_ruido[i],\n",
    "            'espectro_sin_ruido': espectros_base_con_spikes_sin_ruido[i]\n",
    "        })\n",
    "\n",
    "with open('resultados_maury_revilla', 'wb') as fp:\n",
    "    pickle.dump(resultados_maury_revilla, fp)"
   ]
  },
  {
   "cell_type": "markdown",
   "metadata": {},
   "source": [
    "Toma de una muestra aleatoria para control de calidad"
   ]
  },
  {
   "cell_type": "code",
   "execution_count": null,
   "metadata": {},
   "outputs": [],
   "source": [
    "indice_muestra = sample(list(range(len(espectros))), 1)[0]"
   ]
  },
  {
   "cell_type": "markdown",
   "metadata": {},
   "source": [
    "Visualización del resultado de la aplicación del algoritmo Maury-Revilla a un espectro aleatorio al que no le fue añadido ruido aleatorio"
   ]
  },
  {
   "cell_type": "code",
   "execution_count": null,
   "metadata": {},
   "outputs": [],
   "source": [
    "visualizar_resultado_maury_revilla(espectros[indice_muestra]['vector_base'], espectros_base_con_spikes_sin_ruido[indice_muestra], etiquetas[indice_muestra])"
   ]
  },
  {
   "cell_type": "markdown",
   "metadata": {},
   "source": [
    "Visualización del resultado de la aplicación del algoritmo Maury-Revilla a un espectro aleatorio al que le fue añadido ruido aleatorio"
   ]
  },
  {
   "cell_type": "code",
   "execution_count": null,
   "metadata": {},
   "outputs": [],
   "source": [
    "visualizar_resultado_maury_revilla(espectros[indice_muestra]['vector_base'], espectros_base_con_spikes_con_ruido[indice_muestra], etiquetas[indice_muestra])"
   ]
  }
 ],
 "metadata": {
  "kernelspec": {
   "display_name": "Python 3.10.4 64-bit",
   "language": "python",
   "name": "python3"
  },
  "language_info": {
   "codemirror_mode": {
    "name": "ipython",
    "version": 3
   },
   "file_extension": ".py",
   "mimetype": "text/x-python",
   "name": "python",
   "nbconvert_exporter": "python",
   "pygments_lexer": "ipython3",
   "version": "3.10.4"
  },
  "orig_nbformat": 4,
  "vscode": {
   "interpreter": {
    "hash": "916dbcbb3f70747c44a77c7bcd40155683ae19c65e1c03b4aa3499c5328201f1"
   }
  }
 },
 "nbformat": 4,
 "nbformat_minor": 2
}
